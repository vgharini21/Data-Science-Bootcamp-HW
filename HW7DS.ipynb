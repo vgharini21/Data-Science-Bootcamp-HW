{
  "nbformat": 4,
  "nbformat_minor": 0,
  "metadata": {
    "colab": {
      "provenance": []
    },
    "kernelspec": {
      "name": "python3",
      "display_name": "Python 3"
    },
    "language_info": {
      "name": "python"
    }
  },
  "cells": [
    {
      "cell_type": "code",
      "execution_count": 4,
      "metadata": {
        "id": "qerqkNUxqc6g"
      },
      "outputs": [],
      "source": [
        "#Question 1.\n",
        "#Statistical significance is assessed using hypothesis testing. The process typically involves:\n",
        "\n",
        "#Formulating Hypotheses:\n",
        "\n",
        "#Null Hypothesis (h0): Assumes no effect or no difference.\n",
        "#Alternative Hypothesis (𝐻𝑎​): Assumes a significant effect or difference.\n",
        "\n",
        "#Selecting a Test: Depending on the data and problem, tests like t-tests, chi-square tests, or ANOVA are used.\n",
        "\n",
        "#Calculating the Test Statistic: Based on sample data, a statistic (e.g., t-statistic, chi-squared value) is computed.\n",
        "\n",
        "#Determining the p-value:\n",
        "\n",
        "#The p-value indicates the probability of observing the data if the null hypothesis is true.\n",
        "#A p-value less than the significance level ( 𝛼 , often 0.05) suggests rejecting H0​\n",
        "\n",
        "#Conclusion:\n",
        "#If p<α, the result is statistically significant, meaning the observed insight is unlikely to be due to random chance.#"
      ]
    },
    {
      "cell_type": "code",
      "source": [
        "#To assess statistical significance, you can perform hypothesis tests like t-tests or chi-square tests.\n",
        "\n",
        "#Example: t-test"
      ],
      "metadata": {
        "id": "xAFD62Sh59Bq"
      },
      "execution_count": 5,
      "outputs": []
    },
    {
      "cell_type": "code",
      "source": [
        "from scipy.stats import ttest_ind\n",
        "\n",
        "# Sample data\n",
        "group1 = [68, 75, 78, 71, 67]\n",
        "group2 = [63, 74, 76, 80, 69]\n",
        "\n",
        "# Perform independent t-test\n",
        "t_stat, p_value = ttest_ind(group1, group2)\n",
        "\n",
        "# Evaluate significance\n",
        "alpha = 0.05\n",
        "if p_value < alpha:\n",
        "    print(\"Statistically significant (reject null hypothesis).\")\n",
        "else:\n",
        "    print(\"Not statistically significant (fail to reject null hypothesis).\")"
      ],
      "metadata": {
        "colab": {
          "base_uri": "https://localhost:8080/"
        },
        "id": "QLA5wo4V593w",
        "outputId": "fecfdb0a-f35e-452f-cd76-239b158386e0"
      },
      "execution_count": 2,
      "outputs": [
        {
          "output_type": "stream",
          "name": "stdout",
          "text": [
            "Not statistically significant (fail to reject null hypothesis).\n"
          ]
        }
      ]
    },
    {
      "cell_type": "code",
      "source": [
        "#Question 2\n",
        "\n",
        "#The Central Limit Theorem (CLT) states that the sampling distribution of the sample mean (or sum) approaches a normal distribution, regardless of the population's original distribution, as the sample size increases (typically n ≥30).\n",
        "\n",
        "#It allows us to apply parametric statistical methods (like z-tests and t-tests) even if the population distribution is unknown.\n",
        "#It underpins the concept of confidence intervals and hypothesis testing by providing a foundation for inference on population parameters."
      ],
      "metadata": {
        "id": "LOrVE5kc6C9r"
      },
      "execution_count": null,
      "outputs": []
    },
    {
      "cell_type": "code",
      "source": [
        "#You can simulate the CLT by taking multiple samples and calculating the means.\n",
        "import numpy as np\n",
        "import matplotlib.pyplot as plt\n",
        "\n",
        "# Generate a non-normal population\n",
        "population = np.random.exponential(scale=2, size=10000)\n",
        "\n",
        "# Draw sample means\n",
        "sample_means = [np.mean(np.random.choice(population, size=30, replace=False)) for _ in range(1000)]\n",
        "\n",
        "# Plot the sampling distribution\n",
        "plt.hist(sample_means, bins=30, density=True)\n",
        "plt.title(\"Sampling Distribution of the Mean\")\n",
        "plt.xlabel(\"Sample Mean\")\n",
        "plt.ylabel(\"Frequency\")\n",
        "plt.show()\n",
        "\n",
        "\n"
      ],
      "metadata": {
        "colab": {
          "base_uri": "https://localhost:8080/",
          "height": 472
        },
        "id": "3EvhhCgb7Auv",
        "outputId": "2548822d-683d-4ae2-8467-798940f51f15"
      },
      "execution_count": 6,
      "outputs": [
        {
          "output_type": "display_data",
          "data": {
            "text/plain": [
              "<Figure size 640x480 with 1 Axes>"
            ],
            "image/png": "[encoded data removed]"
          },
          "metadata": {}
        }
      ]
    },
    {
      "cell_type": "code",
      "source": [
        "#Question 3\n",
        "\n",
        "#Statistical power is the probability of correctly rejecting the null hypothesis when the alternative hypothesis is true. In other words, it measures the ability of a test to detect an effect, if one exists.\n",
        "\n",
        "#Key components affecting power:\n",
        "\n",
        "#Sample size: Larger samples increase power.\n",
        "#Effect size: Larger differences or stronger relationships are easier to detect.\n",
        "#Significance level (α): A higher significance level increases power but also increases the risk of Type I error.\n",
        "#Variance: Lower variance leads to higher power.\n",
        "#it is important because of  High statistical power reduces the risk of a Type II error (failing to detect a true effect)."
      ],
      "metadata": {
        "id": "cN_C1O-d7Gem"
      },
      "execution_count": 7,
      "outputs": []
    },
    {
      "cell_type": "code",
      "source": [
        "#To calculate statistical power, you can use statsmodels.\n",
        "\n",
        "from statsmodels.stats.power import TTestIndPower\n",
        "\n",
        "# Define parameters\n",
        "effect_size = 0.5  # Difference between means divided by standard deviation\n",
        "alpha = 0.05       # Significance level\n",
        "power = 0.8        # Desired power\n",
        "\n",
        "# Calculate sample size needed\n",
        "analysis = TTestIndPower()\n",
        "sample_size = analysis.solve_power(effect_size=effect_size, alpha=alpha, power=power)\n",
        "print(f\"Required sample size: {sample_size:.2f}\")\n"
      ],
      "metadata": {
        "colab": {
          "base_uri": "https://localhost:8080/"
        },
        "id": "YLNObALZ7L1x",
        "outputId": "2d9f2f6f-e287-41f0-eccd-0722cef9dca1"
      },
      "execution_count": 8,
      "outputs": [
        {
          "output_type": "stream",
          "name": "stdout",
          "text": [
            "Required sample size: 63.77\n"
          ]
        }
      ]
    },
    {
      "cell_type": "code",
      "source": [
        "#Question 4\n",
        "\n",
        "#Bias can be controlled by:\n",
        "\n",
        "#Randomization: Assigning subjects randomly to different groups to reduce selection bias.\n",
        "#Blinding: Using single or double-blind experiments to reduce observer or participant bias.\n",
        "#Standardization: Ensuring consistent data collection methods to avoid measurement bias.\n",
        "#Using Control Groups: Comparing results against a baseline or control group.\n",
        "#Pre-Registration: Specifying the hypothesis and analysis plan before collecting data to prevent p-hacking or selective reporting.\n",
        "#Statistical Adjustments: Using techniques like propensity score matching to account for confounders."
      ],
      "metadata": {
        "id": "pKMI6wXX7m2_"
      },
      "execution_count": null,
      "outputs": []
    },
    {
      "cell_type": "code",
      "source": [
        "#Control for bias by randomizing or standardizing processes. Below is an example of random assignment for A/B testing:\n",
        "\n",
        "import random\n",
        "\n",
        "# Assign subjects randomly to groups\n",
        "subjects = list(range(1, 101))\n",
        "group_A = random.sample(subjects, k=50)\n",
        "group_B = [s for s in subjects if s not in group_A]\n",
        "\n",
        "print(\"Group A:\", group_A)\n",
        "print(\"Group B:\", group_B)"
      ],
      "metadata": {
        "colab": {
          "base_uri": "https://localhost:8080/"
        },
        "id": "Pr7sIlCh71m3",
        "outputId": "4ef79325-75cd-40ec-acb8-1819d0a83aa4"
      },
      "execution_count": 10,
      "outputs": [
        {
          "output_type": "stream",
          "name": "stdout",
          "text": [
            "Group A: [54, 60, 57, 77, 71, 98, 51, 29, 49, 87, 63, 20, 26, 11, 22, 9, 37, 38, 64, 92, 91, 67, 90, 65, 68, 97, 100, 19, 24, 39, 6, 78, 43, 93, 69, 23, 28, 85, 62, 94, 52, 2, 36, 99, 14, 8, 5, 31, 88, 10]\n",
            "Group B: [1, 3, 4, 7, 12, 13, 15, 16, 17, 18, 21, 25, 27, 30, 32, 33, 34, 35, 40, 41, 42, 44, 45, 46, 47, 48, 50, 53, 55, 56, 58, 59, 61, 66, 70, 72, 73, 74, 75, 76, 79, 80, 81, 82, 83, 84, 86, 89, 95, 96]\n"
          ]
        }
      ]
    },
    {
      "cell_type": "code",
      "source": [
        "#Question 5\n",
        "\n",
        "#Confounding variables are external factors that affect both the independent and dependent variables, creating a false association or masking a true relationship.\n",
        "\n",
        "#Example:\n",
        "\n",
        "#If studying the effect of exercise on weight loss, diet is a confounding variable because it impacts weight loss independently of exercise.\n",
        "\n",
        "#How to address them:\n",
        "\n",
        "#Include confounders as covariates in regression models.\n",
        "#Randomize experimental conditions to distribute confounders evenly across groups."
      ],
      "metadata": {
        "id": "QlI0raVl78B6"
      },
      "execution_count": null,
      "outputs": []
    },
    {
      "cell_type": "code",
      "source": [
        "#Use regression to control for confounders.\n",
        "\n",
        "import statsmodels.api as sm\n",
        "import pandas as pd\n",
        "\n",
        "# Simulate data\n",
        "data = pd.DataFrame({\n",
        "    'exercise': [1, 0, 1, 0, 1, 0],\n",
        "    'diet': [1, 1, 0, 0, 1, 1],\n",
        "    'weight_loss': [5, 2, 4, 1, 6, 3]\n",
        "})\n",
        "\n",
        "# Add confounder (diet) to the regression model\n",
        "X = data[['exercise', 'diet']]\n",
        "X = sm.add_constant(X)  # Add intercept\n",
        "y = data['weight_loss']\n",
        "\n",
        "model = sm.OLS(y, X).fit()\n",
        "print(model.summary())\n"
      ],
      "metadata": {
        "colab": {
          "base_uri": "https://localhost:8080/"
        },
        "id": "O_NmxKyS8JsA",
        "outputId": "f643eaea-e391-431f-cf1d-3e30e98f035e"
      },
      "execution_count": 11,
      "outputs": [
        {
          "output_type": "stream",
          "name": "stdout",
          "text": [
            "                            OLS Regression Results                            \n",
            "==============================================================================\n",
            "Dep. Variable:            weight_loss   R-squared:                       0.943\n",
            "Model:                            OLS   Adj. R-squared:                  0.905\n",
            "Method:                 Least Squares   F-statistic:                     24.75\n",
            "Date:                Fri, 22 Nov 2024   Prob (F-statistic):             0.0137\n",
            "Time:                        17:35:13   Log-Likelihood:                -3.1384\n",
            "No. Observations:                   6   AIC:                             12.28\n",
            "Df Residuals:                       3   BIC:                             11.65\n",
            "Df Model:                           2                                         \n",
            "Covariance Type:            nonrobust                                         \n",
            "==============================================================================\n",
            "                 coef    std err          t      P>|t|      [0.025      0.975]\n",
            "------------------------------------------------------------------------------\n",
            "const          1.0000      0.471      2.121      0.124      -0.500       2.500\n",
            "exercise       3.0000      0.471      6.364      0.008       1.500       4.500\n",
            "diet           1.5000      0.500      3.000      0.058      -0.091       3.091\n",
            "==============================================================================\n",
            "Omnibus:                          nan   Durbin-Watson:                   0.500\n",
            "Prob(Omnibus):                    nan   Jarque-Bera (JB):                0.562\n",
            "Skew:                          -0.000   Prob(JB):                        0.755\n",
            "Kurtosis:                       1.500   Cond. No.                         3.74\n",
            "==============================================================================\n",
            "\n",
            "Notes:\n",
            "[1] Standard Errors assume that the covariance matrix of the errors is correctly specified.\n"
          ]
        },
        {
          "output_type": "stream",
          "name": "stderr",
          "text": [
            "/usr/local/lib/python3.10/dist-packages/statsmodels/stats/stattools.py:74: ValueWarning: omni_normtest is not valid with less than 8 observations; 6 samples were given.\n",
            "  warn(\"omni_normtest is not valid with less than 8 observations; %i \"\n"
          ]
        }
      ]
    },
    {
      "cell_type": "code",
      "source": [
        "#Question 6\n",
        "\n",
        "#A/B testing is a controlled experiment used to compare two variants (A and B) to determine which performs better on a specific metric.\n",
        "\n",
        "#Steps:\n",
        "\n",
        "#Split participants into two groups randomly:\n",
        "#Group A: Receives the current version (control).\n",
        "#Group B: Receives the modified version (treatment).\n",
        "#Measure the performance of each group on the desired metric (e.g., conversion rate).\n",
        "#Conduct statistical tests (e.g., t-test, chi-square test) to determine if the difference in performance is statistically significant.\n",
        "#Applications: Widely used in marketing, product development, and web optimization to make data-driven decisions."
      ],
      "metadata": {
        "id": "xnyl3GzI8SAM"
      },
      "execution_count": null,
      "outputs": []
    },
    {
      "cell_type": "code",
      "source": [
        "#Perform an A/B test with a t-test or chi-square test.\n",
        "from scipy.stats import ttest_ind\n",
        "\n",
        "# Simulated data: Conversion rates for A and B\n",
        "A = [1, 0, 1, 1, 0, 0, 1, 1, 0, 1]\n",
        "B = [0, 1, 0, 1, 0, 1, 0, 0, 1, 1]\n",
        "\n",
        "# Perform t-test\n",
        "t_stat, p_value = ttest_ind(A, B)\n",
        "if p_value < 0.05:\n",
        "    print(\"Statistically significant difference between A and B.\")\n",
        "else:\n",
        "    print(\"No significant difference between A and B.\")\n"
      ],
      "metadata": {
        "colab": {
          "base_uri": "https://localhost:8080/"
        },
        "id": "3yPpQDzf8ie6",
        "outputId": "46e3dfb0-b8b1-4f04-8d91-40b62af7a4bc"
      },
      "execution_count": 12,
      "outputs": [
        {
          "output_type": "stream",
          "name": "stdout",
          "text": [
            "No significant difference between A and B.\n"
          ]
        }
      ]
    },
    {
      "cell_type": "code",
      "source": [
        "#Question 7.\n",
        "\n",
        "#A confidence interval (CI) provides a range of values within which the true population parameter (e.g., mean, proportion) is likely to fall with a specified level of confidence (e.g., 95%).\n",
        "\n",
        "#Key elements:\n",
        "\n",
        "#Point estimate: The sample statistic (e.g., sample mean).\n",
        "#Margin of error: Accounts for sampling variability, based on the standard error and the critical value (z or t).\n",
        "#Confidence level: Indicates the proportion of intervals that would capture the true parameter if repeated sampling were performed.\n",
        "\n",
        "#Example:\n",
        "\n",
        "#A 95% CI of [4.5, 6.5] for a mean indicates we are 95% confident that the population mean lies between 4.5 and 6.5.\n",
        "#it's important because CIs provide a measure of precision and reliability for estimates, supplementing hypothesis testing with additional context.\n",
        "\n"
      ],
      "metadata": {
        "id": "PV0_VQ5F8xKG"
      },
      "execution_count": 13,
      "outputs": []
    },
    {
      "cell_type": "code",
      "source": [
        "#Calculate confidence intervals for a sample mean.\n",
        "\n",
        "import numpy as np\n",
        "from scipy.stats import norm\n",
        "\n",
        "# Sample data\n",
        "data = [12, 15, 14, 10, 13, 14, 16, 15]\n",
        "mean = np.mean(data)\n",
        "std_error = np.std(data, ddof=1) / np.sqrt(len(data))\n",
        "\n",
        "# 95% Confidence Interval\n",
        "z = norm.ppf(0.975)  # Critical value for 95% CI\n",
        "margin_of_error = z * std_error\n",
        "ci_lower = mean - margin_of_error\n",
        "ci_upper = mean + margin_of_error\n",
        "\n",
        "print(f\"95% Confidence Interval: [{ci_lower:.2f}, {ci_upper:.2f}]\")\n"
      ],
      "metadata": {
        "colab": {
          "base_uri": "https://localhost:8080/"
        },
        "id": "_GAF2ph48vr1",
        "outputId": "a416709f-0f92-4ef6-c637-81fd7c90b41f"
      },
      "execution_count": 14,
      "outputs": [
        {
          "output_type": "stream",
          "name": "stdout",
          "text": [
            "95% Confidence Interval: [12.29, 14.96]\n"
          ]
        }
      ]
    },
    {
      "cell_type": "code",
      "source": [],
      "metadata": {
        "id": "sw78qe1L9MUh"
      },
      "execution_count": null,
      "outputs": []
    }
  ]
}