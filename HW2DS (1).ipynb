{
 "cells": [
  {
   "cell_type": "code",
   "execution_count": 20,
   "id": "85136815-a8f7-492c-bf4f-e350b0cb4019",
   "metadata": {},
   "outputs": [
    {
     "name": "stdout",
     "output_type": "stream",
     "text": [
      "Vertical Stack:\n",
      " [[5 6 7 8]\n",
      " [9 8 7 6]]\n",
      "Horizontal Stack: [5 6 7 8 9 8 7 6]\n",
      "Extracted Values between 5 and 10: [6 7 8]\n"
     ]
    }
   ],
   "source": [
    "import numpy as np\n",
    "\n",
    "# Define custom numpy arrays A and B\n",
    "A = np.array([5, 6, 7, 8])\n",
    "B = np.array([9, 8, 7, 6])\n",
    "\n",
    "# Stack arrays A and B vertically\n",
    "vertical_stack = np.vstack((A, B))\n",
    "print(\"Vertical Stack:\\n\", vertical_stack)\n",
    "\n",
    "# Stack arrays A and B horizontally\n",
    "horizontal_stack = np.hstack((A, B))\n",
    "print(\"Horizontal Stack:\", horizontal_stack)\n",
    "\n",
    "# Extract numbers from A that are between 5 and 10\n",
    "extracted_values = A[(A > 5) & (A < 10)]\n",
    "print(\"Extracted Values between 5 and 10:\", extracted_values)"
   ]
  },
  {
   "cell_type": "code",
   "execution_count": 21,
   "id": "2718f5e8-d771-48e9-b75f-1293923860b3",
   "metadata": {},
   "outputs": [
    {
     "name": "stdout",
     "output_type": "stream",
     "text": [
      "Common Elements: [6 7 8]\n"
     ]
    }
   ],
   "source": [
    "# Find common elements between A and B using intersection\n",
    "common_elements = np.intersect1d(A, B)\n",
    "print(\"Common Elements:\", common_elements)"
   ]
  },
  {
   "cell_type": "code",
   "execution_count": 22,
   "id": "86a80ab8-02d4-473d-af42-91814ae2e7cd",
   "metadata": {},
   "outputs": [
    {
     "name": "stdout",
     "output_type": "stream",
     "text": [
      "Extracted Values between 5 and 10: [6 7 8]\n"
     ]
    }
   ],
   "source": [
    "# Extract numbers from A that are between 5 and 10\n",
    "extracted_values = A[(A > 5) & (A < 10)]\n",
    "print(\"Extracted Values between 5 and 10:\", extracted_values)"
   ]
  },
  {
   "cell_type": "code",
   "execution_count": 23,
   "id": "2a32006c-4f59-4214-98ce-2ae3ce4d5266",
   "metadata": {},
   "outputs": [
    {
     "name": "stdout",
     "output_type": "stream",
     "text": [
      "Filtered Iris Data:\n",
      " [[4.8 3.4 1.6 0.2]\n",
      " [4.8 3.4 1.9 0.2]\n",
      " [4.7 3.2 1.6 0.2]\n",
      " [4.8 3.1 1.6 0.2]\n",
      " [4.9 2.4 3.3 1. ]\n",
      " [4.9 2.5 4.5 1.7]]\n"
     ]
    }
   ],
   "source": [
    "import numpy as np\n",
    "\n",
    "url = 'https://archive.ics.uci.edu/ml/machine-learning-databases/iris/iris.data'\n",
    "iris_2d = np.genfromtxt(url, delimiter=',', dtype='float', usecols=[0,1,2,3])\n",
    "\n",
    "# Filter rows where petallength (3rd column) > 1.5 and sepallength (1st column) < 5.0\n",
    "filtered_iris = iris_2d[(iris_2d[:, 2] > 1.5) & (iris_2d[:, 0] < 5.0)]\n",
    "print(\"Filtered Iris Data:\\n\", filtered_iris)"
   ]
  },
  {
   "cell_type": "code",
   "execution_count": 24,
   "id": "7f4e6a96-8d01-4d86-91ba-9f64f2327502",
   "metadata": {},
   "outputs": [
    {
     "name": "stdout",
     "output_type": "stream",
     "text": [
      "Filtered Data:\n",
      "    Manufacturer    Model     Type\n",
      "0         Acura  Integra    Small\n",
      "20     Chrysler  LeBaron  Compact\n",
      "40        Honda  Prelude   Sporty\n",
      "60      Mercury   Cougar  Midsize\n",
      "80       Subaru   Loyale    Small\n"
     ]
    }
   ],
   "source": [
    "import pandas as pd\n",
    "\n",
    "url = 'https://raw.githubusercontent.com/selva86/datasets/master/Cars93_miss.csv'\n",
    "df = pd.read_csv(url)\n",
    "\n",
    "# Filter 'Manufacturer', 'Model', and 'Type' for every 20th row starting from the 1st (index 0)\n",
    "filtered_df = df[['Manufacturer', 'Model', 'Type']].iloc[::20]\n",
    "print(\"Filtered Data:\\n\", filtered_df)"
   ]
  },
  {
   "cell_type": "code",
   "execution_count": 25,
   "id": "186ffd9a-fb9e-43ad-a1e0-9d66241ec91c",
   "metadata": {},
   "outputs": [
    {
     "name": "stdout",
     "output_type": "stream",
     "text": [
      "Data after replacing missing values:\n",
      "    Min.Price  Max.Price\n",
      "0  12.900000  18.800000\n",
      "1  29.200000  38.700000\n",
      "2  25.900000  32.300000\n",
      "3  17.118605  44.600000\n",
      "4  17.118605  21.459091\n"
     ]
    },
    {
     "name": "stderr",
     "output_type": "stream",
     "text": [
      "/tmp/ipykernel_414/2688482540.py:7: FutureWarning: A value is trying to be set on a copy of a DataFrame or Series through chained assignment using an inplace method.\n",
      "The behavior will change in pandas 3.0. This inplace method will never work because the intermediate object on which we are setting values always behaves as a copy.\n",
      "\n",
      "For example, when doing 'df[col].method(value, inplace=True)', try using 'df.method({col: value}, inplace=True)' or df[col] = df[col].method(value) instead, to perform the operation inplace on the original object.\n",
      "\n",
      "\n",
      "  df['Min.Price'].fillna(df['Min.Price'].mean(), inplace=True)\n",
      "/tmp/ipykernel_414/2688482540.py:8: FutureWarning: A value is trying to be set on a copy of a DataFrame or Series through chained assignment using an inplace method.\n",
      "The behavior will change in pandas 3.0. This inplace method will never work because the intermediate object on which we are setting values always behaves as a copy.\n",
      "\n",
      "For example, when doing 'df[col].method(value, inplace=True)', try using 'df.method({col: value}, inplace=True)' or df[col] = df[col].method(value) instead, to perform the operation inplace on the original object.\n",
      "\n",
      "\n",
      "  df['Max.Price'].fillna(df['Max.Price'].mean(), inplace=True)\n"
     ]
    }
   ],
   "source": [
    "import pandas as pd\n",
    "\n",
    "url = 'https://raw.githubusercontent.com/selva86/datasets/master/Cars93_miss.csv'\n",
    "df = pd.read_csv(url)\n",
    "\n",
    "# Replace missing values in Min.Price and Max.Price with their mean\n",
    "df['Min.Price'].fillna(df['Min.Price'].mean(), inplace=True)\n",
    "df['Max.Price'].fillna(df['Max.Price'].mean(), inplace=True)\n",
    "\n",
    "print(\"Data after replacing missing values:\\n\", df[['Min.Price', 'Max.Price']].head())"
   ]
  },
  {
   "cell_type": "code",
   "execution_count": 26,
   "id": "48aa5d85-e3d5-4b6f-9bb4-f4b7831c296f",
   "metadata": {},
   "outputs": [
    {
     "name": "stdout",
     "output_type": "stream",
     "text": [
      "Rows with sum greater than 100:\n",
      "      0   1   2   3\n",
      "1   27  26  37  33\n",
      "2   39  23  34  33\n",
      "3   39  24  20  27\n",
      "5   27  29  10  38\n",
      "6   34  24  12  37\n",
      "8   35  30  22  20\n",
      "12  17  28  32  33\n",
      "13  37  19  33  24\n"
     ]
    }
   ],
   "source": [
    "import numpy as np\n",
    "import pandas as pd\n",
    "\n",
    "# Create a random dataframe\n",
    "df = pd.DataFrame(np.random.randint(10, 40, 60).reshape(-1, 4))\n",
    "\n",
    "# Find rows where the sum is greater than 100\n",
    "rows_with_sum_greater_than_100 = df[df.sum(axis=1) > 100]\n",
    "print(\"Rows with sum greater than 100:\\n\", rows_with_sum_greater_than_100)"
   ]
  },
  {
   "cell_type": "code",
   "execution_count": null,
   "id": "207b40fb-80cb-4f71-8a8f-adfb4235da80",
   "metadata": {},
   "outputs": [],
   "source": []
  }
 ],
 "metadata": {
  "kernelspec": {
   "display_name": "Python [conda env:fnds]",
   "language": "python",
   "name": "conda-env-fnds-py"
  },
  "language_info": {
   "codemirror_mode": {
    "name": "ipython",
    "version": 3
   },
   "file_extension": ".py",
   "mimetype": "text/x-python",
   "name": "python",
   "nbconvert_exporter": "python",
   "pygments_lexer": "ipython3",
   "version": "3.9.19"
  }
 },
 "nbformat": 4,
 "nbformat_minor": 5
}
